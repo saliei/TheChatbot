{
 "cells": [
  {
   "cell_type": "code",
   "execution_count": 1,
   "id": "dcb1cde9-e928-4b6c-bae3-5f2d2f1b0d23",
   "metadata": {},
   "outputs": [],
   "source": [
    "from IPython.display import JSON"
   ]
  },
  {
   "cell_type": "code",
   "execution_count": 2,
   "id": "9c758cac-5e2e-4701-9c14-964111d76cbe",
   "metadata": {},
   "outputs": [],
   "source": [
    "import bz2\n",
    "import json"
   ]
  },
  {
   "cell_type": "code",
   "execution_count": 13,
   "id": "e5dfebb9-0c27-48a2-898c-77504eecac1c",
   "metadata": {},
   "outputs": [],
   "source": [
    "file05=\"RC_2005-12\"\n",
    "with open(file05, \"rt\") as mdata05:\n",
    "    lines05 = []\n",
    "    for i, line in enumerate(mdata05):\n",
    "        comments = json.loads(line)\n",
    "        lines05.append(comments)"
   ]
  },
  {
   "cell_type": "code",
   "execution_count": 14,
   "id": "c354ddd2-0939-4dd7-9261-dbd5c8034b8f",
   "metadata": {},
   "outputs": [
    {
     "name": "stdout",
     "output_type": "stream",
     "text": [
      "1075\n"
     ]
    }
   ],
   "source": [
    "line0_05 = lines05[0]\n",
    "print(len(lines05))"
   ]
  },
  {
   "cell_type": "code",
   "execution_count": 15,
   "id": "ef0fcb5f-7b0d-4ec5-b642-32adc802d902",
   "metadata": {},
   "outputs": [
    {
     "data": {
      "application/json": {
       "author": "frjo",
       "author_flair_css_class": null,
       "author_flair_text": null,
       "body": "A look at Vietnam and Mexico exposes the myth of market liberalisation.",
       "controversiality": 0,
       "created_utc": 1134365188,
       "distinguished": null,
       "edited": false,
       "gilded": 0,
       "id": "c13",
       "link_id": "t3_17863",
       "parent_id": "t3_17863",
       "retrieved_on": 1473738411,
       "score": 2,
       "stickied": false,
       "subreddit": "reddit.com",
       "subreddit_id": "t5_6",
       "ups": 2
      },
      "text/plain": [
       "<IPython.core.display.JSON object>"
      ]
     },
     "execution_count": 15,
     "metadata": {
      "application/json": {
       "expanded": false,
       "root": "root"
      }
     },
     "output_type": "execute_result"
    }
   ],
   "source": [
    "JSON(line0_05)"
   ]
  },
  {
   "cell_type": "code",
   "execution_count": 12,
   "id": "0109570e-a69c-487a-923a-72a8bef61b38",
   "metadata": {},
   "outputs": [
    {
     "name": "stdout",
     "output_type": "stream",
     "text": [
      "{\n",
      "    \"author\": \"frjo\",\n",
      "    \"author_flair_css_class\": null,\n",
      "    \"author_flair_text\": null,\n",
      "    \"body\": \"A look at Vietnam and Mexico exposes the myth of market liberalisation.\",\n",
      "    \"controversiality\": 0,\n",
      "    \"created_utc\": 1134365188,\n",
      "    \"distinguished\": null,\n",
      "    \"edited\": false,\n",
      "    \"gilded\": 0,\n",
      "    \"id\": \"c13\",\n",
      "    \"link_id\": \"t3_17863\",\n",
      "    \"parent_id\": \"t3_17863\",\n",
      "    \"retrieved_on\": 1473738411,\n",
      "    \"score\": 2,\n",
      "    \"stickied\": false,\n",
      "    \"subreddit\": \"reddit.com\",\n",
      "    \"subreddit_id\": \"t5_6\",\n",
      "    \"ups\": 2\n",
      "}\n"
     ]
    }
   ],
   "source": [
    "print(json.dumps(line0, sort_keys=True, indent=4))"
   ]
  },
  {
   "cell_type": "code",
   "execution_count": 17,
   "id": "f66bfc74-7b46-4e3a-8829-b15e2c45d4df",
   "metadata": {},
   "outputs": [],
   "source": [
    "# big file when uncompressed, load in buffers\n",
    "file09 = \"RC_2009-06\"\n",
    "BUFF_SIZE = 1000\n",
    "with open(file09, \"rt\") as mdata09:\n",
    "    lines09 = []\n",
    "    for i, line in enumerate(mdata09):\n",
    "        if i == BUFF_SIZE: break\n",
    "        comments = json.loads(line)\n",
    "        lines09.append(comments)"
   ]
  },
  {
   "cell_type": "code",
   "execution_count": 19,
   "id": "ab213c35-762b-4d22-818e-c2b9a496447a",
   "metadata": {},
   "outputs": [
    {
     "name": "stdout",
     "output_type": "stream",
     "text": [
      "1000\n"
     ]
    }
   ],
   "source": [
    "line0_09 = lines09[0]\n",
    "print(len(lines09))"
   ]
  },
  {
   "cell_type": "code",
   "execution_count": 20,
   "id": "71bb603c-9923-44fe-a62a-1ae1c80b75d4",
   "metadata": {},
   "outputs": [
    {
     "data": {
      "application/json": {
       "archived": true,
       "author": "wacrover",
       "author_flair_css_class": null,
       "author_flair_text": null,
       "body": "I'll miss you.",
       "controversiality": 0,
       "created_utc": "1243814400",
       "distinguished": null,
       "downs": 0,
       "edited": false,
       "gilded": 0,
       "id": "c09yi51",
       "link_id": "t3_8mxco",
       "name": "t1_c09yi51",
       "parent_id": "t1_c09sxo0",
       "retrieved_on": 1425978963,
       "score": 1,
       "score_hidden": false,
       "subreddit": "wacrover",
       "subreddit_id": "t5_2qxnb",
       "ups": 1
      },
      "text/plain": [
       "<IPython.core.display.JSON object>"
      ]
     },
     "execution_count": 20,
     "metadata": {
      "application/json": {
       "expanded": false,
       "root": "root"
      }
     },
     "output_type": "execute_result"
    }
   ],
   "source": [
    "JSON(line0_09)"
   ]
  },
  {
   "cell_type": "code",
   "execution_count": null,
   "id": "56951adc-720d-4a80-bf7f-de4e55503b21",
   "metadata": {},
   "outputs": [],
   "source": []
  }
 ],
 "metadata": {
  "kernelspec": {
   "display_name": "Python 3 (ipykernel)",
   "language": "python",
   "name": "python3"
  },
  "language_info": {
   "codemirror_mode": {
    "name": "ipython",
    "version": 3
   },
   "file_extension": ".py",
   "mimetype": "text/x-python",
   "name": "python",
   "nbconvert_exporter": "python",
   "pygments_lexer": "ipython3",
   "version": "3.9.6"
  }
 },
 "nbformat": 4,
 "nbformat_minor": 5
}
